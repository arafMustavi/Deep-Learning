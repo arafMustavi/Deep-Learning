{
  "nbformat": 4,
  "nbformat_minor": 0,
  "metadata": {
    "colab": {
      "name": "Learning Neural Network.ipynb",
      "provenance": [],
      "collapsed_sections": [],
      "authorship_tag": "ABX9TyP85BHAtxLDxRczInOBugUv",
      "include_colab_link": true
    },
    "kernelspec": {
      "name": "python3",
      "display_name": "Python 3"
    }
  },
  "cells": [
    {
      "cell_type": "markdown",
      "metadata": {
        "id": "view-in-github",
        "colab_type": "text"
      },
      "source": [
        "<a href=\"https://colab.research.google.com/github/arafMustavi/Deep-Learning/blob/master/Learning_Neural_Network.ipynb\" target=\"_parent\"><img src=\"https://colab.research.google.com/assets/colab-badge.svg\" alt=\"Open In Colab\"/></a>"
      ]
    },
    {
      "cell_type": "markdown",
      "metadata": {
        "id": "PD5LYh90gTOA"
      },
      "source": [
        "Link of the medium tutorial\n",
        "\n",
        "https://medium.com/towards-artificial-intelligence/building-neural-networks-from-scratch-with-python-code-and-math-in-detail-i-536fae5d7bbf"
      ]
    },
    {
      "cell_type": "markdown",
      "metadata": {
        "id": "qPuZK8zndxFU"
      },
      "source": [
        "Visualizing Sigmoid Function"
      ]
    },
    {
      "cell_type": "code",
      "metadata": {
        "id": "ceDqpX85dMYz"
      },
      "source": [
        "# Import of Required Libraries\n",
        "import numpy as np\n",
        "import matplotlib.pyplot as plt\n",
        "\n",
        "# Generating Input Dataset\n",
        "input_data = np.linspace(-10,10,100) \n",
        "# 100 point between -10 to 10 has been generated and stored in input_data"
      ],
      "execution_count": 9,
      "outputs": []
    },
    {
      "cell_type": "code",
      "metadata": {
        "id": "IQu7dNEnecFU",
        "outputId": "e29158f8-1fd4-42d0-b8af-6df9a2850071",
        "colab": {
          "base_uri": "https://localhost:8080/",
          "height": 187
        }
      },
      "source": [
        "# Testing and Verifying that the numbers are in the array of input_data and sorted\n",
        "for i in range(10):\n",
        "  print(input_data[i])"
      ],
      "execution_count": 10,
      "outputs": [
        {
          "output_type": "stream",
          "text": [
            "-10.0\n",
            "-9.797979797979798\n",
            "-9.595959595959595\n",
            "-9.393939393939394\n",
            "-9.191919191919192\n",
            "-8.98989898989899\n",
            "-8.787878787878787\n",
            "-8.585858585858587\n",
            "-8.383838383838384\n",
            "-8.181818181818182\n"
          ],
          "name": "stdout"
        }
      ]
    },
    {
      "cell_type": "markdown",
      "metadata": {
        "id": "9qijwwPnetoZ"
      },
      "source": [
        "Sigmoid Function Declaration"
      ]
    },
    {
      "cell_type": "code",
      "metadata": {
        "id": "EIH82K6Aeh7J"
      },
      "source": [
        "# Define Sigmoid function\n",
        "def sigmoid(x):\n",
        "  activation_result = 1/( 1 + np.exp(-x))\n",
        "  return activation_result"
      ],
      "execution_count": 11,
      "outputs": []
    },
    {
      "cell_type": "markdown",
      "metadata": {
        "id": "n3XUzWsafMlR"
      },
      "source": [
        "Output values of the sigmoid"
      ]
    },
    {
      "cell_type": "code",
      "metadata": {
        "id": "H0WYxCF9fFs3"
      },
      "source": [
        "# Output Values\n",
        "calculated_data = sigmoid(input_data)"
      ],
      "execution_count": 12,
      "outputs": []
    },
    {
      "cell_type": "code",
      "metadata": {
        "id": "5jOWeqU3f8TP",
        "outputId": "20c72bba-ab77-42be-ff3d-66fe37727b8e",
        "colab": {
          "base_uri": "https://localhost:8080/",
          "height": 187
        }
      },
      "source": [
        "# Testing and Verifying that the numbers are in the array of calculated_data and sorted\n",
        "for i in range(10):\n",
        "  print(calculated_data[i])"
      ],
      "execution_count": 13,
      "outputs": [
        {
          "output_type": "stream",
          "text": [
            "4.5397868702434395e-05\n",
            "5.556064893935847e-05\n",
            "6.7998317442358e-05\n",
            "8.322001972209245e-05\n",
            "0.00010184881542721271\n",
            "0.00012464714594414533\n",
            "0.00015254798624649647\n",
            "0.00018669294496130814\n",
            "0.00022847885532128418\n",
            "0.0002796147386491923\n"
          ],
          "name": "stdout"
        }
      ]
    },
    {
      "cell_type": "markdown",
      "metadata": {
        "id": "9Q-lkC6SffDz"
      },
      "source": [
        "Graphical Representation of the Sigmoid"
      ]
    },
    {
      "cell_type": "code",
      "metadata": {
        "id": "BBhpqCbkfU4B",
        "outputId": "8e1fd8ac-a982-4902-c478-82e7fa65c563",
        "colab": {
          "base_uri": "https://localhost:8080/",
          "height": 312
        }
      },
      "source": [
        "# Plotting the graph of sigmoid\n",
        "plt.plot(input_data,calculated_data)\n",
        "plt.xlabel(\"Input\")\n",
        "plt.ylabel(\"Output\")\n",
        "plt.title(\"Sigmoid Function Visualization\")\n",
        "plt.show()"
      ],
      "execution_count": 14,
      "outputs": [
        {
          "output_type": "execute_result",
          "data": {
            "text/plain": [
              "Text(0.5, 1.0, 'Sigmoid Function Visualization')"
            ]
          },
          "metadata": {
            "tags": []
          },
          "execution_count": 14
        },
        {
          "output_type": "display_data",
          "data": {
            "image/png": "[encoded data removed]",
            "text/plain": [
              "<Figure size 432x288 with 1 Axes>"
            ]
          },
          "metadata": {
            "tags": [],
            "needs_background": "light"
          }
        }
      ]
    }
  ]
}